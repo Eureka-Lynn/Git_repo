{
 "cells": [
  {
   "cell_type": "code",
   "execution_count": 16,
   "metadata": {},
   "outputs": [],
   "source": [
    "import pandas as pd\n",
    "import numpy as np"
   ]
  },
  {
   "cell_type": "code",
   "execution_count": 7,
   "metadata": {},
   "outputs": [],
   "source": [
    "fpath=('Tai1.csv')\n",
    "df=pd.read_csv(fpath)"
   ]
  },
  {
   "cell_type": "code",
   "execution_count": 10,
   "metadata": {},
   "outputs": [
    {
     "data": {
      "text/html": [
       "<div>\n",
       "<style scoped>\n",
       "    .dataframe tbody tr th:only-of-type {\n",
       "        vertical-align: middle;\n",
       "    }\n",
       "\n",
       "    .dataframe tbody tr th {\n",
       "        vertical-align: top;\n",
       "    }\n",
       "\n",
       "    .dataframe thead th {\n",
       "        text-align: right;\n",
       "    }\n",
       "</style>\n",
       "<table border=\"1\" class=\"dataframe\">\n",
       "  <thead>\n",
       "    <tr style=\"text-align: right;\">\n",
       "      <th></th>\n",
       "      <th>时间</th>\n",
       "      <th>标题</th>\n",
       "      <th>网址</th>\n",
       "      <th>时长</th>\n",
       "    </tr>\n",
       "  </thead>\n",
       "  <tbody>\n",
       "    <tr>\n",
       "      <th>0</th>\n",
       "      <td>01/01/2024 00:00:00</td>\n",
       "      <td>题库-哈希编程-PythonTip学编程</td>\n",
       "      <td>https://edu.py2fun.com/learn#/problemset/all/1</td>\n",
       "      <td>32</td>\n",
       "    </tr>\n",
       "    <tr>\n",
       "      <th>1</th>\n",
       "      <td>01/01/2024 00:00:00</td>\n",
       "      <td>题库-翻转句子单词-哈希编程-PythonTip学编程</td>\n",
       "      <td>https://edu.py2fun.com/learn#/problemset/all/c...</td>\n",
       "      <td>158</td>\n",
       "    </tr>\n",
       "    <tr>\n",
       "      <th>2</th>\n",
       "      <td>01/01/2024 00:00:00</td>\n",
       "      <td>python split函数 - 搜索</td>\n",
       "      <td>https://cn.bing.com/search?pglt=169&amp;q=python+s...</td>\n",
       "      <td>3</td>\n",
       "    </tr>\n",
       "    <tr>\n",
       "      <th>3</th>\n",
       "      <td>01/01/2024 00:00:00</td>\n",
       "      <td>Python split()方法 | 菜鸟教程</td>\n",
       "      <td>https://www.runoob.com/python/att-string-split...</td>\n",
       "      <td>73</td>\n",
       "    </tr>\n",
       "    <tr>\n",
       "      <th>4</th>\n",
       "      <td>01/01/2024 00:00:00</td>\n",
       "      <td>返回函数 - 廖雪峰的官方网站</td>\n",
       "      <td>https://www.liaoxuefeng.com/wiki/1016959663602...</td>\n",
       "      <td>1</td>\n",
       "    </tr>\n",
       "  </tbody>\n",
       "</table>\n",
       "</div>"
      ],
      "text/plain": [
       "                    时间                           标题  \\\n",
       "0  01/01/2024 00:00:00         题库-哈希编程-PythonTip学编程   \n",
       "1  01/01/2024 00:00:00  题库-翻转句子单词-哈希编程-PythonTip学编程   \n",
       "2  01/01/2024 00:00:00          python split函数 - 搜索   \n",
       "3  01/01/2024 00:00:00      Python split()方法 | 菜鸟教程   \n",
       "4  01/01/2024 00:00:00              返回函数 - 廖雪峰的官方网站   \n",
       "\n",
       "                                                  网址   时长  \n",
       "0     https://edu.py2fun.com/learn#/problemset/all/1   32  \n",
       "1  https://edu.py2fun.com/learn#/problemset/all/c...  158  \n",
       "2  https://cn.bing.com/search?pglt=169&q=python+s...    3  \n",
       "3  https://www.runoob.com/python/att-string-split...   73  \n",
       "4  https://www.liaoxuefeng.com/wiki/1016959663602...    1  "
      ]
     },
     "execution_count": 10,
     "metadata": {},
     "output_type": "execute_result"
    }
   ],
   "source": [
    "df.head()"
   ]
  },
  {
   "cell_type": "code",
   "execution_count": 11,
   "metadata": {},
   "outputs": [
    {
     "data": {
      "text/html": [
       "<div>\n",
       "<style scoped>\n",
       "    .dataframe tbody tr th:only-of-type {\n",
       "        vertical-align: middle;\n",
       "    }\n",
       "\n",
       "    .dataframe tbody tr th {\n",
       "        vertical-align: top;\n",
       "    }\n",
       "\n",
       "    .dataframe thead th {\n",
       "        text-align: right;\n",
       "    }\n",
       "</style>\n",
       "<table border=\"1\" class=\"dataframe\">\n",
       "  <thead>\n",
       "    <tr style=\"text-align: right;\">\n",
       "      <th></th>\n",
       "      <th>时间</th>\n",
       "      <th>标题</th>\n",
       "      <th>网址</th>\n",
       "      <th>时长</th>\n",
       "    </tr>\n",
       "  </thead>\n",
       "  <tbody>\n",
       "    <tr>\n",
       "      <th>5438</th>\n",
       "      <td>03/02/2024 20:00:00</td>\n",
       "      <td>您的访问受限 (403)</td>\n",
       "      <td>https://gitee.com/antpython/ant-learn-pandas/</td>\n",
       "      <td>5</td>\n",
       "    </tr>\n",
       "    <tr>\n",
       "      <th>5439</th>\n",
       "      <td>03/02/2024 20:00:00</td>\n",
       "      <td>Pandas数据分析从入门到实战_哔哩哔哩_bilibili</td>\n",
       "      <td>https://www.bilibili.com/video/BV1UJ411A7Fs?p=2</td>\n",
       "      <td>0</td>\n",
       "    </tr>\n",
       "    <tr>\n",
       "      <th>5440</th>\n",
       "      <td>03/02/2024 20:00:00</td>\n",
       "      <td>Pandas怎样读取数据_哔哩哔哩_bilibili</td>\n",
       "      <td>https://www.bilibili.com/video/BV1UJ411A7Fs?p=...</td>\n",
       "      <td>91</td>\n",
       "    </tr>\n",
       "    <tr>\n",
       "      <th>5441</th>\n",
       "      <td>03/02/2024 20:00:00</td>\n",
       "      <td>pandas 数据库 - 必应</td>\n",
       "      <td>https://cn.bing.com/search?pglt=169&amp;q=pandas+%...</td>\n",
       "      <td>5</td>\n",
       "    </tr>\n",
       "    <tr>\n",
       "      <th>5442</th>\n",
       "      <td>03/02/2024 20:00:00</td>\n",
       "      <td>ant-learn-pandas: pandas学习课程代码仓库</td>\n",
       "      <td>https://gitee.com/my_yg/ant-learn-pandas</td>\n",
       "      <td>12</td>\n",
       "    </tr>\n",
       "  </tbody>\n",
       "</table>\n",
       "</div>"
      ],
      "text/plain": [
       "                       时间                                标题  \\\n",
       "5438  03/02/2024 20:00:00                      您的访问受限 (403)   \n",
       "5439  03/02/2024 20:00:00    Pandas数据分析从入门到实战_哔哩哔哩_bilibili   \n",
       "5440  03/02/2024 20:00:00        Pandas怎样读取数据_哔哩哔哩_bilibili   \n",
       "5441  03/02/2024 20:00:00                   pandas 数据库 - 必应   \n",
       "5442  03/02/2024 20:00:00  ant-learn-pandas: pandas学习课程代码仓库   \n",
       "\n",
       "                                                     网址  时长  \n",
       "5438      https://gitee.com/antpython/ant-learn-pandas/   5  \n",
       "5439    https://www.bilibili.com/video/BV1UJ411A7Fs?p=2   0  \n",
       "5440  https://www.bilibili.com/video/BV1UJ411A7Fs?p=...  91  \n",
       "5441  https://cn.bing.com/search?pglt=169&q=pandas+%...   5  \n",
       "5442           https://gitee.com/my_yg/ant-learn-pandas  12  "
      ]
     },
     "execution_count": 11,
     "metadata": {},
     "output_type": "execute_result"
    }
   ],
   "source": [
    "df.tail()"
   ]
  },
  {
   "cell_type": "code",
   "execution_count": 19,
   "metadata": {},
   "outputs": [
    {
     "data": {
      "text/plain": [
       "RangeIndex(start=0, stop=5443, step=1)"
      ]
     },
     "execution_count": 19,
     "metadata": {},
     "output_type": "execute_result"
    }
   ],
   "source": [
    "df.index"
   ]
  },
  {
   "cell_type": "code",
   "execution_count": 35,
   "metadata": {},
   "outputs": [
    {
     "data": {
      "text/plain": [
       "Index(['时间', '标题', '网址', '时长'], dtype='object')"
      ]
     },
     "execution_count": 35,
     "metadata": {},
     "output_type": "execute_result"
    }
   ],
   "source": [
    "df.columns"
   ]
  },
  {
   "cell_type": "code",
   "execution_count": null,
   "metadata": {},
   "outputs": [],
   "source": []
  }
 ],
 "metadata": {
  "kernelspec": {
   "display_name": "Python 3",
   "language": "python",
   "name": "python3"
  },
  "language_info": {
   "codemirror_mode": {
    "name": "ipython",
    "version": 3
   },
   "file_extension": ".py",
   "mimetype": "text/x-python",
   "name": "python",
   "nbconvert_exporter": "python",
   "pygments_lexer": "ipython3",
   "version": "3.11.5"
  }
 },
 "nbformat": 4,
 "nbformat_minor": 2
}
