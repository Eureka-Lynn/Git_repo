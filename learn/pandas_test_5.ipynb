{
 "cells": [
  {
   "cell_type": "code",
   "execution_count": 4,
   "metadata": {},
   "outputs": [],
   "source": [
    "import pandas as pd\n",
    "import numpy as np"
   ]
  },
  {
   "cell_type": "code",
   "execution_count": 5,
   "metadata": {},
   "outputs": [],
   "source": [
    "fpath=('Tai1.csv')\n",
    "df=pd.read_csv(fpath)"
   ]
  },
  {
   "cell_type": "code",
   "execution_count": 6,
   "metadata": {},
   "outputs": [
    {
     "data": {
      "text/html": [
       "<div>\n",
       "<style scoped>\n",
       "    .dataframe tbody tr th:only-of-type {\n",
       "        vertical-align: middle;\n",
       "    }\n",
       "\n",
       "    .dataframe tbody tr th {\n",
       "        vertical-align: top;\n",
       "    }\n",
       "\n",
       "    .dataframe thead th {\n",
       "        text-align: right;\n",
       "    }\n",
       "</style>\n",
       "<table border=\"1\" class=\"dataframe\">\n",
       "  <thead>\n",
       "    <tr style=\"text-align: right;\">\n",
       "      <th></th>\n",
       "      <th>时间</th>\n",
       "      <th>标题</th>\n",
       "      <th>网址</th>\n",
       "      <th>时长</th>\n",
       "    </tr>\n",
       "  </thead>\n",
       "  <tbody>\n",
       "    <tr>\n",
       "      <th>0</th>\n",
       "      <td>01/01/2024 00:00:00</td>\n",
       "      <td>题库-哈希编程-PythonTip学编程</td>\n",
       "      <td>https://edu.py2fun.com/learn#/problemset/all/1</td>\n",
       "      <td>32</td>\n",
       "    </tr>\n",
       "    <tr>\n",
       "      <th>1</th>\n",
       "      <td>01/01/2024 00:00:00</td>\n",
       "      <td>题库-翻转句子单词-哈希编程-PythonTip学编程</td>\n",
       "      <td>https://edu.py2fun.com/learn#/problemset/all/c...</td>\n",
       "      <td>158</td>\n",
       "    </tr>\n",
       "    <tr>\n",
       "      <th>2</th>\n",
       "      <td>01/01/2024 00:00:00</td>\n",
       "      <td>python split函数 - 搜索</td>\n",
       "      <td>https://cn.bing.com/search?pglt=169&amp;q=python+s...</td>\n",
       "      <td>3</td>\n",
       "    </tr>\n",
       "    <tr>\n",
       "      <th>3</th>\n",
       "      <td>01/01/2024 00:00:00</td>\n",
       "      <td>Python split()方法 | 菜鸟教程</td>\n",
       "      <td>https://www.runoob.com/python/att-string-split...</td>\n",
       "      <td>73</td>\n",
       "    </tr>\n",
       "    <tr>\n",
       "      <th>4</th>\n",
       "      <td>01/01/2024 00:00:00</td>\n",
       "      <td>返回函数 - 廖雪峰的官方网站</td>\n",
       "      <td>https://www.liaoxuefeng.com/wiki/1016959663602...</td>\n",
       "      <td>1</td>\n",
       "    </tr>\n",
       "  </tbody>\n",
       "</table>\n",
       "</div>"
      ],
      "text/plain": [
       "                    时间                           标题  \\\n",
       "0  01/01/2024 00:00:00         题库-哈希编程-PythonTip学编程   \n",
       "1  01/01/2024 00:00:00  题库-翻转句子单词-哈希编程-PythonTip学编程   \n",
       "2  01/01/2024 00:00:00          python split函数 - 搜索   \n",
       "3  01/01/2024 00:00:00      Python split()方法 | 菜鸟教程   \n",
       "4  01/01/2024 00:00:00              返回函数 - 廖雪峰的官方网站   \n",
       "\n",
       "                                                  网址   时长  \n",
       "0     https://edu.py2fun.com/learn#/problemset/all/1   32  \n",
       "1  https://edu.py2fun.com/learn#/problemset/all/c...  158  \n",
       "2  https://cn.bing.com/search?pglt=169&q=python+s...    3  \n",
       "3  https://www.runoob.com/python/att-string-split...   73  \n",
       "4  https://www.liaoxuefeng.com/wiki/1016959663602...    1  "
      ]
     },
     "execution_count": 6,
     "metadata": {},
     "output_type": "execute_result"
    }
   ],
   "source": [
    "df.head()"
   ]
  },
  {
   "cell_type": "code",
   "execution_count": 7,
   "metadata": {},
   "outputs": [
    {
     "data": {
      "text/html": [
       "<div>\n",
       "<style scoped>\n",
       "    .dataframe tbody tr th:only-of-type {\n",
       "        vertical-align: middle;\n",
       "    }\n",
       "\n",
       "    .dataframe tbody tr th {\n",
       "        vertical-align: top;\n",
       "    }\n",
       "\n",
       "    .dataframe thead th {\n",
       "        text-align: right;\n",
       "    }\n",
       "</style>\n",
       "<table border=\"1\" class=\"dataframe\">\n",
       "  <thead>\n",
       "    <tr style=\"text-align: right;\">\n",
       "      <th></th>\n",
       "      <th>时间</th>\n",
       "      <th>标题</th>\n",
       "      <th>网址</th>\n",
       "      <th>时长</th>\n",
       "    </tr>\n",
       "  </thead>\n",
       "  <tbody>\n",
       "    <tr>\n",
       "      <th>5438</th>\n",
       "      <td>03/02/2024 20:00:00</td>\n",
       "      <td>您的访问受限 (403)</td>\n",
       "      <td>https://gitee.com/antpython/ant-learn-pandas/</td>\n",
       "      <td>5</td>\n",
       "    </tr>\n",
       "    <tr>\n",
       "      <th>5439</th>\n",
       "      <td>03/02/2024 20:00:00</td>\n",
       "      <td>Pandas数据分析从入门到实战_哔哩哔哩_bilibili</td>\n",
       "      <td>https://www.bilibili.com/video/BV1UJ411A7Fs?p=2</td>\n",
       "      <td>0</td>\n",
       "    </tr>\n",
       "    <tr>\n",
       "      <th>5440</th>\n",
       "      <td>03/02/2024 20:00:00</td>\n",
       "      <td>Pandas怎样读取数据_哔哩哔哩_bilibili</td>\n",
       "      <td>https://www.bilibili.com/video/BV1UJ411A7Fs?p=...</td>\n",
       "      <td>91</td>\n",
       "    </tr>\n",
       "    <tr>\n",
       "      <th>5441</th>\n",
       "      <td>03/02/2024 20:00:00</td>\n",
       "      <td>pandas 数据库 - 必应</td>\n",
       "      <td>https://cn.bing.com/search?pglt=169&amp;q=pandas+%...</td>\n",
       "      <td>5</td>\n",
       "    </tr>\n",
       "    <tr>\n",
       "      <th>5442</th>\n",
       "      <td>03/02/2024 20:00:00</td>\n",
       "      <td>ant-learn-pandas: pandas学习课程代码仓库</td>\n",
       "      <td>https://gitee.com/my_yg/ant-learn-pandas</td>\n",
       "      <td>12</td>\n",
       "    </tr>\n",
       "  </tbody>\n",
       "</table>\n",
       "</div>"
      ],
      "text/plain": [
       "                       时间                                标题  \\\n",
       "5438  03/02/2024 20:00:00                      您的访问受限 (403)   \n",
       "5439  03/02/2024 20:00:00    Pandas数据分析从入门到实战_哔哩哔哩_bilibili   \n",
       "5440  03/02/2024 20:00:00        Pandas怎样读取数据_哔哩哔哩_bilibili   \n",
       "5441  03/02/2024 20:00:00                   pandas 数据库 - 必应   \n",
       "5442  03/02/2024 20:00:00  ant-learn-pandas: pandas学习课程代码仓库   \n",
       "\n",
       "                                                     网址  时长  \n",
       "5438      https://gitee.com/antpython/ant-learn-pandas/   5  \n",
       "5439    https://www.bilibili.com/video/BV1UJ411A7Fs?p=2   0  \n",
       "5440  https://www.bilibili.com/video/BV1UJ411A7Fs?p=...  91  \n",
       "5441  https://cn.bing.com/search?pglt=169&q=pandas+%...   5  \n",
       "5442           https://gitee.com/my_yg/ant-learn-pandas  12  "
      ]
     },
     "execution_count": 7,
     "metadata": {},
     "output_type": "execute_result"
    }
   ],
   "source": [
    "df.tail()"
   ]
  },
  {
   "cell_type": "code",
   "execution_count": 8,
   "metadata": {},
   "outputs": [
    {
     "data": {
      "text/plain": [
       "RangeIndex(start=0, stop=5443, step=1)"
      ]
     },
     "execution_count": 8,
     "metadata": {},
     "output_type": "execute_result"
    }
   ],
   "source": [
    "df.index"
   ]
  },
  {
   "cell_type": "code",
   "execution_count": 9,
   "metadata": {},
   "outputs": [
    {
     "data": {
      "text/plain": [
       "Index(['时间', '标题', '网址', '时长'], dtype='object')"
      ]
     },
     "execution_count": 9,
     "metadata": {},
     "output_type": "execute_result"
    }
   ],
   "source": [
    "df.columns"
   ]
  },
  {
   "cell_type": "code",
   "execution_count": 10,
   "metadata": {},
   "outputs": [
    {
     "data": {
      "text/plain": [
       "array([['01/01/2024 00:00:00', '题库-哈希编程-PythonTip学编程',\n",
       "        'https://edu.py2fun.com/learn#/problemset/all/1', 32],\n",
       "       ['01/01/2024 00:00:00', '题库-翻转句子单词-哈希编程-PythonTip学编程',\n",
       "        'https://edu.py2fun.com/learn#/problemset/all/code/633?redirect=%2Fproblemset%2Fall%2F1',\n",
       "        158],\n",
       "       ['01/01/2024 00:00:00', 'python split函数 - 搜索',\n",
       "        'https://cn.bing.com/search?pglt=169&q=python+split%E5%87%BD%E6%95%B0&cvid=b2d3f10859d24c7dad2ded309db75c5c&gs_lcrp=EgZjaHJvbWUqBggCEAAYQDIGCAAQRRg5MgYIARAAGEAyBggCEAAYQDIGCAMQABhAMgYIBBAAGEAyBggFEAAYQDIGCAYQABhAMgYIBxAAGEAyBggIEAAYQNIBCDU1NDZqMGoxqAIAsAIA&FORM=ANNTA1&PC=NMTS',\n",
       "        3],\n",
       "       ...,\n",
       "       ['03/02/2024 20:00:00', 'Pandas怎样读取数据_哔哩哔哩_bilibili',\n",
       "        'https://www.bilibili.com/video/BV1UJ411A7Fs?p=2&vd_source=d204207689c13d880f1e08ddd8f21731',\n",
       "        91],\n",
       "       ['03/02/2024 20:00:00', 'pandas 数据库 - 必应',\n",
       "        'https://cn.bing.com/search?pglt=169&q=pandas+%E6%95%B0%E6%8D%AE%E5%BA%93&cvid=82cfacf3d30c4a6091c8163ddd3993a3&gs_lcrp=EgZjaHJvbWUyBggAEEUYOTIGCAEQABhAMgYIAhAAGEAyBggDEAAYQDIGCAQQABhAMgYIBRAAGEAyBggGEAAYQDIGCAcQABhAMgYICBAAGEDSAQg0MjY5ajBqMagCALACAA&FORM=ANNTA1&adppc=EdgeStart&PC=NMTS',\n",
       "        5],\n",
       "       ['03/02/2024 20:00:00', 'ant-learn-pandas: pandas学习课程代码仓库',\n",
       "        'https://gitee.com/my_yg/ant-learn-pandas', 12]], dtype=object)"
      ]
     },
     "execution_count": 10,
     "metadata": {},
     "output_type": "execute_result"
    }
   ],
   "source": [
    "df.to_numpy()"
   ]
  },
  {
   "cell_type": "code",
   "execution_count": 13,
   "metadata": {},
   "outputs": [
    {
     "data": {
      "text/html": [
       "<div>\n",
       "<style scoped>\n",
       "    .dataframe tbody tr th:only-of-type {\n",
       "        vertical-align: middle;\n",
       "    }\n",
       "\n",
       "    .dataframe tbody tr th {\n",
       "        vertical-align: top;\n",
       "    }\n",
       "\n",
       "    .dataframe thead th {\n",
       "        text-align: right;\n",
       "    }\n",
       "</style>\n",
       "<table border=\"1\" class=\"dataframe\">\n",
       "  <thead>\n",
       "    <tr style=\"text-align: right;\">\n",
       "      <th></th>\n",
       "      <th>时间</th>\n",
       "      <th>标题</th>\n",
       "      <th>网址</th>\n",
       "      <th>时长</th>\n",
       "    </tr>\n",
       "  </thead>\n",
       "  <tbody>\n",
       "    <tr>\n",
       "      <th>3532</th>\n",
       "      <td>01/28/2024 22:00:00</td>\n",
       "      <td>以撒竞速赛16强！ - 陈哥1 - 哔哩哔哩直播，二次元弹幕直播平台</td>\n",
       "      <td>https://live.bilibili.com/404?broadcast_type=0...</td>\n",
       "      <td>3600</td>\n",
       "    </tr>\n",
       "    <tr>\n",
       "      <th>2755</th>\n",
       "      <td>01/18/2024 20:00:00</td>\n",
       "      <td>[第4集] 快排及随机化算法_哔哩哔哩_bilibili</td>\n",
       "      <td>https://www.bilibili.com/video/BV1Tb411M7FA?p=...</td>\n",
       "      <td>3600</td>\n",
       "    </tr>\n",
       "    <tr>\n",
       "      <th>3355</th>\n",
       "      <td>01/25/2024 23:00:00</td>\n",
       "      <td>以撒竞速赛开始 - 陈哥1 - 哔哩哔哩直播，二次元弹幕直播平台</td>\n",
       "      <td>https://live.bilibili.com/404?spm_id_from=333....</td>\n",
       "      <td>3600</td>\n",
       "    </tr>\n",
       "    <tr>\n",
       "      <th>3421</th>\n",
       "      <td>01/27/2024 23:00:00</td>\n",
       "      <td>以撒竞速赛8强！ - 陈哥1 - 哔哩哔哩直播，二次元弹幕直播平台</td>\n",
       "      <td>https://live.bilibili.com/404?live_from=81011&amp;...</td>\n",
       "      <td>3600</td>\n",
       "    </tr>\n",
       "    <tr>\n",
       "      <th>3284</th>\n",
       "      <td>01/24/2024 00:00:00</td>\n",
       "      <td>[第7集] 哈希表_哔哩哔哩_bilibili</td>\n",
       "      <td>https://www.bilibili.com/video/BV1Tb411M7FA?p=...</td>\n",
       "      <td>3575</td>\n",
       "    </tr>\n",
       "    <tr>\n",
       "      <th>...</th>\n",
       "      <td>...</td>\n",
       "      <td>...</td>\n",
       "      <td>...</td>\n",
       "      <td>...</td>\n",
       "    </tr>\n",
       "    <tr>\n",
       "      <th>3156</th>\n",
       "      <td>01/21/2024 19:00:00</td>\n",
       "      <td>Clash</td>\n",
       "      <td>https://www.clash.la/releases/</td>\n",
       "      <td>0</td>\n",
       "    </tr>\n",
       "    <tr>\n",
       "      <th>4618</th>\n",
       "      <td>02/04/2024 23:00:00</td>\n",
       "      <td>������ vscode - 搜索</td>\n",
       "      <td>https://cn.bing.com/search?pglt=169&amp;q=%EF%BF%B...</td>\n",
       "      <td>0</td>\n",
       "    </tr>\n",
       "    <tr>\n",
       "      <th>3146</th>\n",
       "      <td>01/21/2024 18:00:00</td>\n",
       "      <td>bittorrent list - 搜索</td>\n",
       "      <td>https://cn.bing.com/search?pglt=169&amp;q=bittorre...</td>\n",
       "      <td>0</td>\n",
       "    </tr>\n",
       "    <tr>\n",
       "      <th>3915</th>\n",
       "      <td>01/31/2024 19:00:00</td>\n",
       "      <td>正在跳转...</td>\n",
       "      <td>https://a2.p31.top/?id=26816</td>\n",
       "      <td>0</td>\n",
       "    </tr>\n",
       "    <tr>\n",
       "      <th>3310</th>\n",
       "      <td>01/24/2024 23:00:00</td>\n",
       "      <td>手柄测试 - 搜索</td>\n",
       "      <td>https://cn.bing.com/search?pglt=169&amp;q=%E6%89%8...</td>\n",
       "      <td>0</td>\n",
       "    </tr>\n",
       "  </tbody>\n",
       "</table>\n",
       "<p>5443 rows × 4 columns</p>\n",
       "</div>"
      ],
      "text/plain": [
       "                       时间                                  标题  \\\n",
       "3532  01/28/2024 22:00:00  以撒竞速赛16强！ - 陈哥1 - 哔哩哔哩直播，二次元弹幕直播平台   \n",
       "2755  01/18/2024 20:00:00        [第4集] 快排及随机化算法_哔哩哔哩_bilibili   \n",
       "3355  01/25/2024 23:00:00    以撒竞速赛开始 - 陈哥1 - 哔哩哔哩直播，二次元弹幕直播平台   \n",
       "3421  01/27/2024 23:00:00   以撒竞速赛8强！ - 陈哥1 - 哔哩哔哩直播，二次元弹幕直播平台   \n",
       "3284  01/24/2024 00:00:00             [第7集] 哈希表_哔哩哔哩_bilibili   \n",
       "...                   ...                                 ...   \n",
       "3156  01/21/2024 19:00:00                               Clash   \n",
       "4618  02/04/2024 23:00:00                  ������ vscode - 搜索   \n",
       "3146  01/21/2024 18:00:00                bittorrent list - 搜索   \n",
       "3915  01/31/2024 19:00:00                             正在跳转...   \n",
       "3310  01/24/2024 23:00:00                           手柄测试 - 搜索   \n",
       "\n",
       "                                                     网址    时长  \n",
       "3532  https://live.bilibili.com/404?broadcast_type=0...  3600  \n",
       "2755  https://www.bilibili.com/video/BV1Tb411M7FA?p=...  3600  \n",
       "3355  https://live.bilibili.com/404?spm_id_from=333....  3600  \n",
       "3421  https://live.bilibili.com/404?live_from=81011&...  3600  \n",
       "3284  https://www.bilibili.com/video/BV1Tb411M7FA?p=...  3575  \n",
       "...                                                 ...   ...  \n",
       "3156                     https://www.clash.la/releases/     0  \n",
       "4618  https://cn.bing.com/search?pglt=169&q=%EF%BF%B...     0  \n",
       "3146  https://cn.bing.com/search?pglt=169&q=bittorre...     0  \n",
       "3915                       https://a2.p31.top/?id=26816     0  \n",
       "3310  https://cn.bing.com/search?pglt=169&q=%E6%89%8...     0  \n",
       "\n",
       "[5443 rows x 4 columns]"
      ]
     },
     "execution_count": 13,
     "metadata": {},
     "output_type": "execute_result"
    }
   ],
   "source": [
    "df.sort_values(by='时长',ascending=False)"
   ]
  },
  {
   "cell_type": "code",
   "execution_count": null,
   "metadata": {},
   "outputs": [],
   "source": []
  }
 ],
 "metadata": {
  "kernelspec": {
   "display_name": "Python 3",
   "language": "python",
   "name": "python3"
  },
  "language_info": {
   "codemirror_mode": {
    "name": "ipython",
    "version": 3
   },
   "file_extension": ".py",
   "mimetype": "text/x-python",
   "name": "python",
   "nbconvert_exporter": "python",
   "pygments_lexer": "ipython3",
   "version": "3.11.5"
  }
 },
 "nbformat": 4,
 "nbformat_minor": 2
}
